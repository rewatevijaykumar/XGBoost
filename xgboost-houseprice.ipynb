{
 "cells": [
  {
   "cell_type": "code",
   "execution_count": 1,
   "metadata": {
    "_cell_guid": "b1076dfc-b9ad-4769-8c92-a6c4dae69d19",
    "_uuid": "8f2839f25d086af736a60e9eeb907d3b93b6e0e5",
    "execution": {
     "iopub.execute_input": "2020-12-14T07:43:19.461635Z",
     "iopub.status.busy": "2020-12-14T07:43:19.460844Z",
     "iopub.status.idle": "2020-12-14T07:43:20.913663Z",
     "shell.execute_reply": "2020-12-14T07:43:20.912769Z"
    },
    "papermill": {
     "duration": 1.474451,
     "end_time": "2020-12-14T07:43:20.913803",
     "exception": false,
     "start_time": "2020-12-14T07:43:19.439352",
     "status": "completed"
    },
    "tags": []
   },
   "outputs": [],
   "source": [
    "import pandas as pd\n",
    "\n",
    "from sklearn.model_selection import train_test_split\n",
    "from sklearn.impute import SimpleImputer\n",
    "\n",
    "data = pd.read_csv('../input/house-prices-advanced-regression-techniques/train.csv')"
   ]
  },
  {
   "cell_type": "code",
   "execution_count": 2,
   "metadata": {
    "execution": {
     "iopub.execute_input": "2020-12-14T07:43:20.952762Z",
     "iopub.status.busy": "2020-12-14T07:43:20.948925Z",
     "iopub.status.idle": "2020-12-14T07:43:20.966960Z",
     "shell.execute_reply": "2020-12-14T07:43:20.966086Z"
    },
    "papermill": {
     "duration": 0.040293,
     "end_time": "2020-12-14T07:43:20.967085",
     "exception": false,
     "start_time": "2020-12-14T07:43:20.926792",
     "status": "completed"
    },
    "tags": []
   },
   "outputs": [],
   "source": [
    "y = data.SalePrice\n",
    "\n",
    "X = data.drop('SalePrice', axis=1).select_dtypes(exclude='object')"
   ]
  },
  {
   "cell_type": "code",
   "execution_count": 3,
   "metadata": {
    "execution": {
     "iopub.execute_input": "2020-12-14T07:43:21.003625Z",
     "iopub.status.busy": "2020-12-14T07:43:20.999665Z",
     "iopub.status.idle": "2020-12-14T07:43:21.007392Z",
     "shell.execute_reply": "2020-12-14T07:43:21.006583Z"
    },
    "papermill": {
     "duration": 0.026843,
     "end_time": "2020-12-14T07:43:21.007522",
     "exception": false,
     "start_time": "2020-12-14T07:43:20.980679",
     "status": "completed"
    },
    "tags": []
   },
   "outputs": [],
   "source": [
    "train_X, test_X, train_y, test_y = train_test_split(X, y, train_size=0.75, test_size = 0.25 )"
   ]
  },
  {
   "cell_type": "code",
   "execution_count": 4,
   "metadata": {
    "execution": {
     "iopub.execute_input": "2020-12-14T07:43:21.043384Z",
     "iopub.status.busy": "2020-12-14T07:43:21.042628Z",
     "iopub.status.idle": "2020-12-14T07:43:21.053923Z",
     "shell.execute_reply": "2020-12-14T07:43:21.053063Z"
    },
    "papermill": {
     "duration": 0.033494,
     "end_time": "2020-12-14T07:43:21.054052",
     "exception": false,
     "start_time": "2020-12-14T07:43:21.020558",
     "status": "completed"
    },
    "tags": []
   },
   "outputs": [],
   "source": [
    "my_imputer = SimpleImputer()\n",
    "train_X = my_imputer.fit_transform(train_X)\n",
    "test_X = my_imputer.transform(test_X)\n"
   ]
  },
  {
   "cell_type": "code",
   "execution_count": 5,
   "metadata": {
    "_cell_guid": "79c7e3d0-c299-4dcb-8224-4455121ee9b0",
    "_uuid": "d629ff2d2480ee46fbb7e2d37f6b5fab8052498a",
    "execution": {
     "iopub.execute_input": "2020-12-14T07:43:21.086393Z",
     "iopub.status.busy": "2020-12-14T07:43:21.085544Z",
     "iopub.status.idle": "2020-12-14T07:43:22.550728Z",
     "shell.execute_reply": "2020-12-14T07:43:22.551919Z"
    },
    "papermill": {
     "duration": 1.484993,
     "end_time": "2020-12-14T07:43:22.552111",
     "exception": false,
     "start_time": "2020-12-14T07:43:21.067118",
     "status": "completed"
    },
    "tags": []
   },
   "outputs": [
    {
     "data": {
      "text/plain": [
       "XGBRegressor(base_score=0.5, booster='gbtree', colsample_bylevel=1,\n",
       "             colsample_bynode=1, colsample_bytree=1, gamma=0, gpu_id=-1,\n",
       "             importance_type='gain', interaction_constraints='',\n",
       "             learning_rate=0.300000012, max_delta_step=0, max_depth=6,\n",
       "             min_child_weight=1, missing=nan, monotone_constraints='()',\n",
       "             n_estimators=100, n_jobs=0, num_parallel_tree=1, random_state=0,\n",
       "             reg_alpha=0, reg_lambda=1, scale_pos_weight=1, subsample=1,\n",
       "             tree_method='exact', validate_parameters=1, verbosity=None)"
      ]
     },
     "execution_count": 5,
     "metadata": {},
     "output_type": "execute_result"
    }
   ],
   "source": [
    "from xgboost import XGBRegressor\n",
    "\n",
    "my_model = XGBRegressor()\n",
    "\n",
    "my_model.fit(train_X, train_y)\n"
   ]
  },
  {
   "cell_type": "code",
   "execution_count": 6,
   "metadata": {
    "execution": {
     "iopub.execute_input": "2020-12-14T07:43:22.598895Z",
     "iopub.status.busy": "2020-12-14T07:43:22.598012Z",
     "iopub.status.idle": "2020-12-14T07:43:22.604148Z",
     "shell.execute_reply": "2020-12-14T07:43:22.604872Z"
    },
    "papermill": {
     "duration": 0.035237,
     "end_time": "2020-12-14T07:43:22.605057",
     "exception": false,
     "start_time": "2020-12-14T07:43:22.569820",
     "status": "completed"
    },
    "tags": []
   },
   "outputs": [
    {
     "name": "stdout",
     "output_type": "stream",
     "text": [
      "MEA : 18640\n"
     ]
    }
   ],
   "source": [
    "predictions = my_model.predict(test_X)\n",
    "\n",
    "from sklearn.metrics import mean_absolute_error\n",
    "\n",
    "print('MEA : %d' % (mean_absolute_error(predictions, test_y)))"
   ]
  },
  {
   "cell_type": "markdown",
   "metadata": {
    "papermill": {
     "duration": 0.017999,
     "end_time": "2020-12-14T07:43:22.640336",
     "exception": false,
     "start_time": "2020-12-14T07:43:22.622337",
     "status": "completed"
    },
    "tags": []
   },
   "source": [
    "# Model tuning"
   ]
  },
  {
   "cell_type": "code",
   "execution_count": 7,
   "metadata": {
    "execution": {
     "iopub.execute_input": "2020-12-14T07:43:22.720594Z",
     "iopub.status.busy": "2020-12-14T07:43:22.719568Z",
     "iopub.status.idle": "2020-12-14T07:43:23.080702Z",
     "shell.execute_reply": "2020-12-14T07:43:23.081594Z"
    },
    "papermill": {
     "duration": 0.41321,
     "end_time": "2020-12-14T07:43:23.081786",
     "exception": false,
     "start_time": "2020-12-14T07:43:22.668576",
     "status": "completed"
    },
    "tags": []
   },
   "outputs": [
    {
     "name": "stdout",
     "output_type": "stream",
     "text": [
      "[0]\tvalidation_0-rmse:141564.14062\n",
      "Will train until validation_0-rmse hasn't improved in 5 rounds.\n",
      "[1]\tvalidation_0-rmse:102967.94531\n",
      "[2]\tvalidation_0-rmse:76456.06250\n",
      "[3]\tvalidation_0-rmse:58767.66406\n",
      "[4]\tvalidation_0-rmse:47577.07422\n",
      "[5]\tvalidation_0-rmse:41732.69141\n",
      "[6]\tvalidation_0-rmse:38925.49219\n",
      "[7]\tvalidation_0-rmse:37138.61328\n",
      "[8]\tvalidation_0-rmse:37030.48438\n",
      "[9]\tvalidation_0-rmse:36336.33984\n",
      "[10]\tvalidation_0-rmse:37010.48047\n",
      "[11]\tvalidation_0-rmse:36935.16797\n",
      "[12]\tvalidation_0-rmse:36931.66016\n",
      "[13]\tvalidation_0-rmse:37097.67188\n",
      "[14]\tvalidation_0-rmse:37154.01562\n",
      "Stopping. Best iteration:\n",
      "[9]\tvalidation_0-rmse:36336.33984\n",
      "\n"
     ]
    },
    {
     "data": {
      "text/plain": [
       "XGBRegressor(base_score=0.5, booster='gbtree', colsample_bylevel=1,\n",
       "             colsample_bynode=1, colsample_bytree=1, gamma=0, gpu_id=-1,\n",
       "             importance_type='gain', interaction_constraints='',\n",
       "             learning_rate=0.300000012, max_delta_step=0, max_depth=6,\n",
       "             min_child_weight=1, missing=nan, monotone_constraints='()',\n",
       "             n_estimators=1000, n_jobs=0, num_parallel_tree=1, random_state=0,\n",
       "             reg_alpha=0, reg_lambda=1, scale_pos_weight=1, subsample=1,\n",
       "             tree_method='exact', validate_parameters=1, verbosity=None)"
      ]
     },
     "execution_count": 7,
     "metadata": {},
     "output_type": "execute_result"
    }
   ],
   "source": [
    "my_model = XGBRegressor(n_estimators = 1000)\n",
    "my_model.fit(train_X, train_y, early_stopping_rounds=5, eval_set=[(test_X, test_y)])"
   ]
  },
  {
   "cell_type": "code",
   "execution_count": 8,
   "metadata": {
    "execution": {
     "iopub.execute_input": "2020-12-14T07:43:23.215029Z",
     "iopub.status.busy": "2020-12-14T07:43:23.214157Z",
     "iopub.status.idle": "2020-12-14T07:43:23.239645Z",
     "shell.execute_reply": "2020-12-14T07:43:23.240555Z"
    },
    "papermill": {
     "duration": 0.111646,
     "end_time": "2020-12-14T07:43:23.240753",
     "exception": false,
     "start_time": "2020-12-14T07:43:23.129107",
     "status": "completed"
    },
    "tags": []
   },
   "outputs": [
    {
     "name": "stdout",
     "output_type": "stream",
     "text": [
      "MAE: 19249\n"
     ]
    }
   ],
   "source": [
    "predictions = my_model.predict(test_X)\n",
    "print('MAE: %d' % (mean_absolute_error(predictions, test_y)))"
   ]
  },
  {
   "cell_type": "code",
   "execution_count": 9,
   "metadata": {
    "execution": {
     "iopub.execute_input": "2020-12-14T07:43:23.350857Z",
     "iopub.status.busy": "2020-12-14T07:43:23.349941Z",
     "iopub.status.idle": "2020-12-14T07:43:23.840179Z",
     "shell.execute_reply": "2020-12-14T07:43:23.841213Z"
    },
    "papermill": {
     "duration": 0.559526,
     "end_time": "2020-12-14T07:43:23.841431",
     "exception": false,
     "start_time": "2020-12-14T07:43:23.281905",
     "status": "completed"
    },
    "tags": []
   },
   "outputs": [
    {
     "name": "stdout",
     "output_type": "stream",
     "text": [
      "[0]\tvalidation_0-rmse:188799.17188\n",
      "Will train until validation_0-rmse hasn't improved in 5 rounds.\n",
      "[1]\tvalidation_0-rmse:179743.01562\n",
      "[2]\tvalidation_0-rmse:171202.31250\n",
      "[3]\tvalidation_0-rmse:163092.60938\n",
      "[4]\tvalidation_0-rmse:155460.42188\n",
      "[5]\tvalidation_0-rmse:148055.12500\n",
      "[6]\tvalidation_0-rmse:141183.34375\n",
      "[7]\tvalidation_0-rmse:134593.07812\n",
      "[8]\tvalidation_0-rmse:128480.26562\n",
      "[9]\tvalidation_0-rmse:122550.66406\n",
      "[10]\tvalidation_0-rmse:116937.07031\n",
      "[11]\tvalidation_0-rmse:111730.64844\n",
      "[12]\tvalidation_0-rmse:106783.67188\n",
      "[13]\tvalidation_0-rmse:102020.10156\n",
      "[14]\tvalidation_0-rmse:97498.25781\n",
      "[15]\tvalidation_0-rmse:93150.15625\n",
      "[16]\tvalidation_0-rmse:89262.11719\n",
      "[17]\tvalidation_0-rmse:85534.33594\n",
      "[18]\tvalidation_0-rmse:81952.39844\n",
      "[19]\tvalidation_0-rmse:78548.29688\n",
      "[20]\tvalidation_0-rmse:75321.82031\n",
      "[21]\tvalidation_0-rmse:72344.73438\n",
      "[22]\tvalidation_0-rmse:69589.84375\n",
      "[23]\tvalidation_0-rmse:67085.75781\n",
      "[24]\tvalidation_0-rmse:64623.55469\n",
      "[25]\tvalidation_0-rmse:62183.29297\n",
      "[26]\tvalidation_0-rmse:59927.82422\n",
      "[27]\tvalidation_0-rmse:57821.89844\n",
      "[28]\tvalidation_0-rmse:55875.09766\n",
      "[29]\tvalidation_0-rmse:53984.14062\n",
      "[30]\tvalidation_0-rmse:52325.84766\n",
      "[31]\tvalidation_0-rmse:50713.79297\n",
      "[32]\tvalidation_0-rmse:49382.15625\n",
      "[33]\tvalidation_0-rmse:47982.33594\n",
      "[34]\tvalidation_0-rmse:46684.93359\n",
      "[35]\tvalidation_0-rmse:45504.05859\n",
      "[36]\tvalidation_0-rmse:44375.82422\n",
      "[37]\tvalidation_0-rmse:43336.10938\n",
      "[38]\tvalidation_0-rmse:42367.44922\n",
      "[39]\tvalidation_0-rmse:41520.17969\n",
      "[40]\tvalidation_0-rmse:40675.13281\n",
      "[41]\tvalidation_0-rmse:39974.57031\n",
      "[42]\tvalidation_0-rmse:39316.82812\n",
      "[43]\tvalidation_0-rmse:38731.83594\n",
      "[44]\tvalidation_0-rmse:38192.25000\n",
      "[45]\tvalidation_0-rmse:37778.14062\n",
      "[46]\tvalidation_0-rmse:37469.73828\n",
      "[47]\tvalidation_0-rmse:37179.03125\n",
      "[48]\tvalidation_0-rmse:36939.84375\n",
      "[49]\tvalidation_0-rmse:36740.78906\n",
      "[50]\tvalidation_0-rmse:36555.85938\n",
      "[51]\tvalidation_0-rmse:36424.68750\n",
      "[52]\tvalidation_0-rmse:36278.72656\n",
      "[53]\tvalidation_0-rmse:36098.56250\n",
      "[54]\tvalidation_0-rmse:36025.39062\n",
      "[55]\tvalidation_0-rmse:35969.31641\n",
      "[56]\tvalidation_0-rmse:35926.73438\n",
      "[57]\tvalidation_0-rmse:35903.37109\n",
      "[58]\tvalidation_0-rmse:35801.58203\n",
      "[59]\tvalidation_0-rmse:35673.04688\n",
      "[60]\tvalidation_0-rmse:35690.01172\n",
      "[61]\tvalidation_0-rmse:35717.03906\n",
      "[62]\tvalidation_0-rmse:35756.69141\n",
      "[63]\tvalidation_0-rmse:35785.12891\n",
      "[64]\tvalidation_0-rmse:35835.51953\n",
      "Stopping. Best iteration:\n",
      "[59]\tvalidation_0-rmse:35673.04688\n",
      "\n"
     ]
    },
    {
     "data": {
      "text/plain": [
       "XGBRegressor(base_score=0.5, booster='gbtree', colsample_bylevel=1,\n",
       "             colsample_bynode=1, colsample_bytree=1, gamma=0, gpu_id=-1,\n",
       "             importance_type='gain', interaction_constraints='',\n",
       "             learning_rate=0.05, max_delta_step=0, max_depth=6,\n",
       "             min_child_weight=1, missing=nan, monotone_constraints='()',\n",
       "             n_estimators=1000, n_jobs=0, num_parallel_tree=1, random_state=0,\n",
       "             reg_alpha=0, reg_lambda=1, scale_pos_weight=1, subsample=1,\n",
       "             tree_method='exact', validate_parameters=1, verbosity=None)"
      ]
     },
     "execution_count": 9,
     "metadata": {},
     "output_type": "execute_result"
    }
   ],
   "source": [
    "my_model = XGBRegressor(n_estimators=1000, learning_rate=0.05)\n",
    "my_model.fit(train_X, train_y, early_stopping_rounds=5, eval_set=[(test_X, test_y)])"
   ]
  },
  {
   "cell_type": "code",
   "execution_count": 10,
   "metadata": {
    "execution": {
     "iopub.execute_input": "2020-12-14T07:43:23.967958Z",
     "iopub.status.busy": "2020-12-14T07:43:23.966864Z",
     "iopub.status.idle": "2020-12-14T07:43:23.976312Z",
     "shell.execute_reply": "2020-12-14T07:43:23.977650Z"
    },
    "papermill": {
     "duration": 0.076327,
     "end_time": "2020-12-14T07:43:23.977981",
     "exception": false,
     "start_time": "2020-12-14T07:43:23.901654",
     "status": "completed"
    },
    "tags": []
   },
   "outputs": [
    {
     "name": "stdout",
     "output_type": "stream",
     "text": [
      "MAE: 19305\n"
     ]
    }
   ],
   "source": [
    "predictions = my_model.predict(test_X)\n",
    "print('MAE: %d' % (mean_absolute_error(predictions, test_y)))"
   ]
  },
  {
   "cell_type": "code",
   "execution_count": 11,
   "metadata": {
    "execution": {
     "iopub.execute_input": "2020-12-14T07:43:24.116864Z",
     "iopub.status.busy": "2020-12-14T07:43:24.115642Z",
     "iopub.status.idle": "2020-12-14T07:43:24.179503Z",
     "shell.execute_reply": "2020-12-14T07:43:24.180801Z"
    },
    "papermill": {
     "duration": 0.136006,
     "end_time": "2020-12-14T07:43:24.181153",
     "exception": false,
     "start_time": "2020-12-14T07:43:24.045147",
     "status": "completed"
    },
    "tags": []
   },
   "outputs": [
    {
     "name": "stdout",
     "output_type": "stream",
     "text": [
      "[120783.73 140470.17 169104.88 ... 156126.53 107920.59 217637.5 ]\n"
     ]
    }
   ],
   "source": [
    "test = pd.read_csv('../input/house-prices-advanced-regression-techniques/test.csv')\n",
    "\n",
    "test_X = test.select_dtypes(exclude='object')\n",
    "test_X = my_imputer.transform(test_X)\n",
    "predicted_prices = my_model.predict(test_X)\n",
    "\n",
    "print(predicted_prices)"
   ]
  },
  {
   "cell_type": "code",
   "execution_count": 12,
   "metadata": {
    "execution": {
     "iopub.execute_input": "2020-12-14T07:43:24.317224Z",
     "iopub.status.busy": "2020-12-14T07:43:24.316124Z",
     "iopub.status.idle": "2020-12-14T07:43:24.590770Z",
     "shell.execute_reply": "2020-12-14T07:43:24.589915Z"
    },
    "papermill": {
     "duration": 0.343801,
     "end_time": "2020-12-14T07:43:24.590899",
     "exception": false,
     "start_time": "2020-12-14T07:43:24.247098",
     "status": "completed"
    },
    "tags": []
   },
   "outputs": [],
   "source": [
    "my_submission = pd.DataFrame({'Id':test.Id, 'SalePrice':predicted_prices})\n",
    "\n",
    "my_submission.to_csv('submission.csv', index = False)"
   ]
  },
  {
   "cell_type": "code",
   "execution_count": null,
   "metadata": {
    "papermill": {
     "duration": 0.05098,
     "end_time": "2020-12-14T07:43:24.693869",
     "exception": false,
     "start_time": "2020-12-14T07:43:24.642889",
     "status": "completed"
    },
    "tags": []
   },
   "outputs": [],
   "source": []
  },
  {
   "cell_type": "code",
   "execution_count": null,
   "metadata": {
    "papermill": {
     "duration": 0.050727,
     "end_time": "2020-12-14T07:43:24.795855",
     "exception": false,
     "start_time": "2020-12-14T07:43:24.745128",
     "status": "completed"
    },
    "tags": []
   },
   "outputs": [],
   "source": []
  }
 ],
 "metadata": {
  "kernelspec": {
   "display_name": "Python 3",
   "language": "python",
   "name": "python3"
  },
  "language_info": {
   "codemirror_mode": {
    "name": "ipython",
    "version": 3
   },
   "file_extension": ".py",
   "mimetype": "text/x-python",
   "name": "python",
   "nbconvert_exporter": "python",
   "pygments_lexer": "ipython3",
   "version": "3.7.6"
  },
  "papermill": {
   "duration": 11.135342,
   "end_time": "2020-12-14T07:43:24.956116",
   "environment_variables": {},
   "exception": null,
   "input_path": "__notebook__.ipynb",
   "output_path": "__notebook__.ipynb",
   "parameters": {},
   "start_time": "2020-12-14T07:43:13.820774",
   "version": "2.1.0"
  }
 },
 "nbformat": 4,
 "nbformat_minor": 4
}
